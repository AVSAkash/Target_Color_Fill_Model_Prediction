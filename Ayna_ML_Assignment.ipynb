{
  "cells": [
    {
      "cell_type": "code",
      "execution_count": 1,
      "metadata": {
        "colab": {
          "base_uri": "https://localhost:8080/"
        },
        "id": "auzURDCrJowO",
        "outputId": "e68fc48e-0c0e-4551-f9d2-b4af66fc964b"
      },
      "outputs": [
        {
          "output_type": "stream",
          "name": "stdout",
          "text": [
            "Requirement already satisfied: torch in /usr/local/lib/python3.11/dist-packages (2.6.0+cu124)\n",
            "Requirement already satisfied: torchvision in /usr/local/lib/python3.11/dist-packages (0.21.0+cu124)\n",
            "Requirement already satisfied: wandb in /usr/local/lib/python3.11/dist-packages (0.21.0)\n",
            "Requirement already satisfied: pillow in /usr/local/lib/python3.11/dist-packages (11.3.0)\n",
            "Requirement already satisfied: matplotlib in /usr/local/lib/python3.11/dist-packages (3.10.0)\n",
            "Requirement already satisfied: filelock in /usr/local/lib/python3.11/dist-packages (from torch) (3.18.0)\n",
            "Requirement already satisfied: typing-extensions>=4.10.0 in /usr/local/lib/python3.11/dist-packages (from torch) (4.14.1)\n",
            "Requirement already satisfied: networkx in /usr/local/lib/python3.11/dist-packages (from torch) (3.5)\n",
            "Requirement already satisfied: jinja2 in /usr/local/lib/python3.11/dist-packages (from torch) (3.1.6)\n",
            "Requirement already satisfied: fsspec in /usr/local/lib/python3.11/dist-packages (from torch) (2025.3.0)\n",
            "Collecting nvidia-cuda-nvrtc-cu12==12.4.127 (from torch)\n",
            "  Downloading nvidia_cuda_nvrtc_cu12-12.4.127-py3-none-manylinux2014_x86_64.whl.metadata (1.5 kB)\n",
            "Collecting nvidia-cuda-runtime-cu12==12.4.127 (from torch)\n",
            "  Downloading nvidia_cuda_runtime_cu12-12.4.127-py3-none-manylinux2014_x86_64.whl.metadata (1.5 kB)\n",
            "Collecting nvidia-cuda-cupti-cu12==12.4.127 (from torch)\n",
            "  Downloading nvidia_cuda_cupti_cu12-12.4.127-py3-none-manylinux2014_x86_64.whl.metadata (1.6 kB)\n",
            "Collecting nvidia-cudnn-cu12==9.1.0.70 (from torch)\n",
            "  Downloading nvidia_cudnn_cu12-9.1.0.70-py3-none-manylinux2014_x86_64.whl.metadata (1.6 kB)\n",
            "Collecting nvidia-cublas-cu12==12.4.5.8 (from torch)\n",
            "  Downloading nvidia_cublas_cu12-12.4.5.8-py3-none-manylinux2014_x86_64.whl.metadata (1.5 kB)\n",
            "Collecting nvidia-cufft-cu12==11.2.1.3 (from torch)\n",
            "  Downloading nvidia_cufft_cu12-11.2.1.3-py3-none-manylinux2014_x86_64.whl.metadata (1.5 kB)\n",
            "Collecting nvidia-curand-cu12==10.3.5.147 (from torch)\n",
            "  Downloading nvidia_curand_cu12-10.3.5.147-py3-none-manylinux2014_x86_64.whl.metadata (1.5 kB)\n",
            "Collecting nvidia-cusolver-cu12==11.6.1.9 (from torch)\n",
            "  Downloading nvidia_cusolver_cu12-11.6.1.9-py3-none-manylinux2014_x86_64.whl.metadata (1.6 kB)\n",
            "Collecting nvidia-cusparse-cu12==12.3.1.170 (from torch)\n",
            "  Downloading nvidia_cusparse_cu12-12.3.1.170-py3-none-manylinux2014_x86_64.whl.metadata (1.6 kB)\n",
            "Requirement already satisfied: nvidia-cusparselt-cu12==0.6.2 in /usr/local/lib/python3.11/dist-packages (from torch) (0.6.2)\n",
            "Requirement already satisfied: nvidia-nccl-cu12==2.21.5 in /usr/local/lib/python3.11/dist-packages (from torch) (2.21.5)\n",
            "Requirement already satisfied: nvidia-nvtx-cu12==12.4.127 in /usr/local/lib/python3.11/dist-packages (from torch) (12.4.127)\n",
            "Collecting nvidia-nvjitlink-cu12==12.4.127 (from torch)\n",
            "  Downloading nvidia_nvjitlink_cu12-12.4.127-py3-none-manylinux2014_x86_64.whl.metadata (1.5 kB)\n",
            "Requirement already satisfied: triton==3.2.0 in /usr/local/lib/python3.11/dist-packages (from torch) (3.2.0)\n",
            "Requirement already satisfied: sympy==1.13.1 in /usr/local/lib/python3.11/dist-packages (from torch) (1.13.1)\n",
            "Requirement already satisfied: mpmath<1.4,>=1.1.0 in /usr/local/lib/python3.11/dist-packages (from sympy==1.13.1->torch) (1.3.0)\n",
            "Requirement already satisfied: numpy in /usr/local/lib/python3.11/dist-packages (from torchvision) (2.0.2)\n",
            "Requirement already satisfied: click!=8.0.0,>=7.1 in /usr/local/lib/python3.11/dist-packages (from wandb) (8.2.1)\n",
            "Requirement already satisfied: gitpython!=3.1.29,>=1.0.0 in /usr/local/lib/python3.11/dist-packages (from wandb) (3.1.45)\n",
            "Requirement already satisfied: packaging in /usr/local/lib/python3.11/dist-packages (from wandb) (25.0)\n",
            "Requirement already satisfied: platformdirs in /usr/local/lib/python3.11/dist-packages (from wandb) (4.3.8)\n",
            "Requirement already satisfied: protobuf!=4.21.0,!=5.28.0,<7,>=3.19.0 in /usr/local/lib/python3.11/dist-packages (from wandb) (5.29.5)\n",
            "Requirement already satisfied: pydantic<3 in /usr/local/lib/python3.11/dist-packages (from wandb) (2.11.7)\n",
            "Requirement already satisfied: pyyaml in /usr/local/lib/python3.11/dist-packages (from wandb) (6.0.2)\n",
            "Requirement already satisfied: requests<3,>=2.0.0 in /usr/local/lib/python3.11/dist-packages (from wandb) (2.32.3)\n",
            "Requirement already satisfied: sentry-sdk>=2.0.0 in /usr/local/lib/python3.11/dist-packages (from wandb) (2.33.2)\n",
            "Requirement already satisfied: contourpy>=1.0.1 in /usr/local/lib/python3.11/dist-packages (from matplotlib) (1.3.2)\n",
            "Requirement already satisfied: cycler>=0.10 in /usr/local/lib/python3.11/dist-packages (from matplotlib) (0.12.1)\n",
            "Requirement already satisfied: fonttools>=4.22.0 in /usr/local/lib/python3.11/dist-packages (from matplotlib) (4.59.0)\n",
            "Requirement already satisfied: kiwisolver>=1.3.1 in /usr/local/lib/python3.11/dist-packages (from matplotlib) (1.4.8)\n",
            "Requirement already satisfied: pyparsing>=2.3.1 in /usr/local/lib/python3.11/dist-packages (from matplotlib) (3.2.3)\n",
            "Requirement already satisfied: python-dateutil>=2.7 in /usr/local/lib/python3.11/dist-packages (from matplotlib) (2.9.0.post0)\n",
            "Requirement already satisfied: gitdb<5,>=4.0.1 in /usr/local/lib/python3.11/dist-packages (from gitpython!=3.1.29,>=1.0.0->wandb) (4.0.12)\n",
            "Requirement already satisfied: annotated-types>=0.6.0 in /usr/local/lib/python3.11/dist-packages (from pydantic<3->wandb) (0.7.0)\n",
            "Requirement already satisfied: pydantic-core==2.33.2 in /usr/local/lib/python3.11/dist-packages (from pydantic<3->wandb) (2.33.2)\n",
            "Requirement already satisfied: typing-inspection>=0.4.0 in /usr/local/lib/python3.11/dist-packages (from pydantic<3->wandb) (0.4.1)\n",
            "Requirement already satisfied: six>=1.5 in /usr/local/lib/python3.11/dist-packages (from python-dateutil>=2.7->matplotlib) (1.17.0)\n",
            "Requirement already satisfied: charset-normalizer<4,>=2 in /usr/local/lib/python3.11/dist-packages (from requests<3,>=2.0.0->wandb) (3.4.2)\n",
            "Requirement already satisfied: idna<4,>=2.5 in /usr/local/lib/python3.11/dist-packages (from requests<3,>=2.0.0->wandb) (3.10)\n",
            "Requirement already satisfied: urllib3<3,>=1.21.1 in /usr/local/lib/python3.11/dist-packages (from requests<3,>=2.0.0->wandb) (2.5.0)\n",
            "Requirement already satisfied: certifi>=2017.4.17 in /usr/local/lib/python3.11/dist-packages (from requests<3,>=2.0.0->wandb) (2025.7.14)\n",
            "Requirement already satisfied: MarkupSafe>=2.0 in /usr/local/lib/python3.11/dist-packages (from jinja2->torch) (3.0.2)\n",
            "Requirement already satisfied: smmap<6,>=3.0.1 in /usr/local/lib/python3.11/dist-packages (from gitdb<5,>=4.0.1->gitpython!=3.1.29,>=1.0.0->wandb) (5.0.2)\n",
            "Downloading nvidia_cublas_cu12-12.4.5.8-py3-none-manylinux2014_x86_64.whl (363.4 MB)\n",
            "\u001b[2K   \u001b[90m━━━━━━━━━━━━━━━━━━━━━━━━━━━━━━━━━━━━━━━━\u001b[0m \u001b[32m363.4/363.4 MB\u001b[0m \u001b[31m4.1 MB/s\u001b[0m eta \u001b[36m0:00:00\u001b[0m\n",
            "\u001b[?25hDownloading nvidia_cuda_cupti_cu12-12.4.127-py3-none-manylinux2014_x86_64.whl (13.8 MB)\n",
            "\u001b[2K   \u001b[90m━━━━━━━━━━━━━━━━━━━━━━━━━━━━━━━━━━━━━━━━\u001b[0m \u001b[32m13.8/13.8 MB\u001b[0m \u001b[31m35.2 MB/s\u001b[0m eta \u001b[36m0:00:00\u001b[0m\n",
            "\u001b[?25hDownloading nvidia_cuda_nvrtc_cu12-12.4.127-py3-none-manylinux2014_x86_64.whl (24.6 MB)\n",
            "\u001b[2K   \u001b[90m━━━━━━━━━━━━━━━━━━━━━━━━━━━━━━━━━━━━━━━━\u001b[0m \u001b[32m24.6/24.6 MB\u001b[0m \u001b[31m41.3 MB/s\u001b[0m eta \u001b[36m0:00:00\u001b[0m\n",
            "\u001b[?25hDownloading nvidia_cuda_runtime_cu12-12.4.127-py3-none-manylinux2014_x86_64.whl (883 kB)\n",
            "\u001b[2K   \u001b[90m━━━━━━━━━━━━━━━━━━━━━━━━━━━━━━━━━━━━━━━━\u001b[0m \u001b[32m883.7/883.7 kB\u001b[0m \u001b[31m54.1 MB/s\u001b[0m eta \u001b[36m0:00:00\u001b[0m\n",
            "\u001b[?25hDownloading nvidia_cudnn_cu12-9.1.0.70-py3-none-manylinux2014_x86_64.whl (664.8 MB)\n",
            "\u001b[2K   \u001b[90m━━━━━━━━━━━━━━━━━━━━━━━━━━━━━━━━━━━━━━━━\u001b[0m \u001b[32m664.8/664.8 MB\u001b[0m \u001b[31m1.3 MB/s\u001b[0m eta \u001b[36m0:00:00\u001b[0m\n",
            "\u001b[?25hDownloading nvidia_cufft_cu12-11.2.1.3-py3-none-manylinux2014_x86_64.whl (211.5 MB)\n",
            "\u001b[2K   \u001b[90m━━━━━━━━━━━━━━━━━━━━━━━━━━━━━━━━━━━━━━━━\u001b[0m \u001b[32m211.5/211.5 MB\u001b[0m \u001b[31m5.4 MB/s\u001b[0m eta \u001b[36m0:00:00\u001b[0m\n",
            "\u001b[?25hDownloading nvidia_curand_cu12-10.3.5.147-py3-none-manylinux2014_x86_64.whl (56.3 MB)\n",
            "\u001b[2K   \u001b[90m━━━━━━━━━━━━━━━━━━━━━━━━━━━━━━━━━━━━━━━━\u001b[0m \u001b[32m56.3/56.3 MB\u001b[0m \u001b[31m13.1 MB/s\u001b[0m eta \u001b[36m0:00:00\u001b[0m\n",
            "\u001b[?25hDownloading nvidia_cusolver_cu12-11.6.1.9-py3-none-manylinux2014_x86_64.whl (127.9 MB)\n",
            "\u001b[2K   \u001b[90m━━━━━━━━━━━━━━━━━━━━━━━━━━━━━━━━━━━━━━━━\u001b[0m \u001b[32m127.9/127.9 MB\u001b[0m \u001b[31m7.4 MB/s\u001b[0m eta \u001b[36m0:00:00\u001b[0m\n",
            "\u001b[?25hDownloading nvidia_cusparse_cu12-12.3.1.170-py3-none-manylinux2014_x86_64.whl (207.5 MB)\n",
            "\u001b[2K   \u001b[90m━━━━━━━━━━━━━━━━━━━━━━━━━━━━━━━━━━━━━━━━\u001b[0m \u001b[32m207.5/207.5 MB\u001b[0m \u001b[31m6.0 MB/s\u001b[0m eta \u001b[36m0:00:00\u001b[0m\n",
            "\u001b[?25hDownloading nvidia_nvjitlink_cu12-12.4.127-py3-none-manylinux2014_x86_64.whl (21.1 MB)\n",
            "\u001b[2K   \u001b[90m━━━━━━━━━━━━━━━━━━━━━━━━━━━━━━━━━━━━━━━━\u001b[0m \u001b[32m21.1/21.1 MB\u001b[0m \u001b[31m106.3 MB/s\u001b[0m eta \u001b[36m0:00:00\u001b[0m\n",
            "\u001b[?25hInstalling collected packages: nvidia-nvjitlink-cu12, nvidia-curand-cu12, nvidia-cufft-cu12, nvidia-cuda-runtime-cu12, nvidia-cuda-nvrtc-cu12, nvidia-cuda-cupti-cu12, nvidia-cublas-cu12, nvidia-cusparse-cu12, nvidia-cudnn-cu12, nvidia-cusolver-cu12\n",
            "  Attempting uninstall: nvidia-nvjitlink-cu12\n",
            "    Found existing installation: nvidia-nvjitlink-cu12 12.5.82\n",
            "    Uninstalling nvidia-nvjitlink-cu12-12.5.82:\n",
            "      Successfully uninstalled nvidia-nvjitlink-cu12-12.5.82\n",
            "  Attempting uninstall: nvidia-curand-cu12\n",
            "    Found existing installation: nvidia-curand-cu12 10.3.6.82\n",
            "    Uninstalling nvidia-curand-cu12-10.3.6.82:\n",
            "      Successfully uninstalled nvidia-curand-cu12-10.3.6.82\n",
            "  Attempting uninstall: nvidia-cufft-cu12\n",
            "    Found existing installation: nvidia-cufft-cu12 11.2.3.61\n",
            "    Uninstalling nvidia-cufft-cu12-11.2.3.61:\n",
            "      Successfully uninstalled nvidia-cufft-cu12-11.2.3.61\n",
            "  Attempting uninstall: nvidia-cuda-runtime-cu12\n",
            "    Found existing installation: nvidia-cuda-runtime-cu12 12.5.82\n",
            "    Uninstalling nvidia-cuda-runtime-cu12-12.5.82:\n",
            "      Successfully uninstalled nvidia-cuda-runtime-cu12-12.5.82\n",
            "  Attempting uninstall: nvidia-cuda-nvrtc-cu12\n",
            "    Found existing installation: nvidia-cuda-nvrtc-cu12 12.5.82\n",
            "    Uninstalling nvidia-cuda-nvrtc-cu12-12.5.82:\n",
            "      Successfully uninstalled nvidia-cuda-nvrtc-cu12-12.5.82\n",
            "  Attempting uninstall: nvidia-cuda-cupti-cu12\n",
            "    Found existing installation: nvidia-cuda-cupti-cu12 12.5.82\n",
            "    Uninstalling nvidia-cuda-cupti-cu12-12.5.82:\n",
            "      Successfully uninstalled nvidia-cuda-cupti-cu12-12.5.82\n",
            "  Attempting uninstall: nvidia-cublas-cu12\n",
            "    Found existing installation: nvidia-cublas-cu12 12.5.3.2\n",
            "    Uninstalling nvidia-cublas-cu12-12.5.3.2:\n",
            "      Successfully uninstalled nvidia-cublas-cu12-12.5.3.2\n",
            "  Attempting uninstall: nvidia-cusparse-cu12\n",
            "    Found existing installation: nvidia-cusparse-cu12 12.5.1.3\n",
            "    Uninstalling nvidia-cusparse-cu12-12.5.1.3:\n",
            "      Successfully uninstalled nvidia-cusparse-cu12-12.5.1.3\n",
            "  Attempting uninstall: nvidia-cudnn-cu12\n",
            "    Found existing installation: nvidia-cudnn-cu12 9.3.0.75\n",
            "    Uninstalling nvidia-cudnn-cu12-9.3.0.75:\n",
            "      Successfully uninstalled nvidia-cudnn-cu12-9.3.0.75\n",
            "  Attempting uninstall: nvidia-cusolver-cu12\n",
            "    Found existing installation: nvidia-cusolver-cu12 11.6.3.83\n",
            "    Uninstalling nvidia-cusolver-cu12-11.6.3.83:\n",
            "      Successfully uninstalled nvidia-cusolver-cu12-11.6.3.83\n",
            "Successfully installed nvidia-cublas-cu12-12.4.5.8 nvidia-cuda-cupti-cu12-12.4.127 nvidia-cuda-nvrtc-cu12-12.4.127 nvidia-cuda-runtime-cu12-12.4.127 nvidia-cudnn-cu12-9.1.0.70 nvidia-cufft-cu12-11.2.1.3 nvidia-curand-cu12-10.3.5.147 nvidia-cusolver-cu12-11.6.1.9 nvidia-cusparse-cu12-12.3.1.170 nvidia-nvjitlink-cu12-12.4.127\n"
          ]
        }
      ],
      "source": [
        "!pip install torch torchvision wandb pillow matplotlib\n"
      ]
    },
    {
      "cell_type": "markdown",
      "source": [
        "**Uploading and Extracting the Dataset**"
      ],
      "metadata": {
        "id": "sM-SzivmPpb1"
      }
    },
    {
      "cell_type": "code",
      "execution_count": 2,
      "metadata": {
        "colab": {
          "base_uri": "https://localhost:8080/",
          "height": 73
        },
        "id": "8R6sy52kKIxX",
        "outputId": "08b5cb3b-41a3-4d04-e13c-3fffecdc0e2e"
      },
      "outputs": [
        {
          "output_type": "display_data",
          "data": {
            "text/plain": [
              "<IPython.core.display.HTML object>"
            ],
            "text/html": [
              "\n",
              "     <input type=\"file\" id=\"files-449292b4-287a-406e-b282-a5e8c9bb42cc\" name=\"files[]\" multiple disabled\n",
              "        style=\"border:none\" />\n",
              "     <output id=\"result-449292b4-287a-406e-b282-a5e8c9bb42cc\">\n",
              "      Upload widget is only available when the cell has been executed in the\n",
              "      current browser session. Please rerun this cell to enable.\n",
              "      </output>\n",
              "      <script>// Copyright 2017 Google LLC\n",
              "//\n",
              "// Licensed under the Apache License, Version 2.0 (the \"License\");\n",
              "// you may not use this file except in compliance with the License.\n",
              "// You may obtain a copy of the License at\n",
              "//\n",
              "//      http://www.apache.org/licenses/LICENSE-2.0\n",
              "//\n",
              "// Unless required by applicable law or agreed to in writing, software\n",
              "// distributed under the License is distributed on an \"AS IS\" BASIS,\n",
              "// WITHOUT WARRANTIES OR CONDITIONS OF ANY KIND, either express or implied.\n",
              "// See the License for the specific language governing permissions and\n",
              "// limitations under the License.\n",
              "\n",
              "/**\n",
              " * @fileoverview Helpers for google.colab Python module.\n",
              " */\n",
              "(function(scope) {\n",
              "function span(text, styleAttributes = {}) {\n",
              "  const element = document.createElement('span');\n",
              "  element.textContent = text;\n",
              "  for (const key of Object.keys(styleAttributes)) {\n",
              "    element.style[key] = styleAttributes[key];\n",
              "  }\n",
              "  return element;\n",
              "}\n",
              "\n",
              "// Max number of bytes which will be uploaded at a time.\n",
              "const MAX_PAYLOAD_SIZE = 100 * 1024;\n",
              "\n",
              "function _uploadFiles(inputId, outputId) {\n",
              "  const steps = uploadFilesStep(inputId, outputId);\n",
              "  const outputElement = document.getElementById(outputId);\n",
              "  // Cache steps on the outputElement to make it available for the next call\n",
              "  // to uploadFilesContinue from Python.\n",
              "  outputElement.steps = steps;\n",
              "\n",
              "  return _uploadFilesContinue(outputId);\n",
              "}\n",
              "\n",
              "// This is roughly an async generator (not supported in the browser yet),\n",
              "// where there are multiple asynchronous steps and the Python side is going\n",
              "// to poll for completion of each step.\n",
              "// This uses a Promise to block the python side on completion of each step,\n",
              "// then passes the result of the previous step as the input to the next step.\n",
              "function _uploadFilesContinue(outputId) {\n",
              "  const outputElement = document.getElementById(outputId);\n",
              "  const steps = outputElement.steps;\n",
              "\n",
              "  const next = steps.next(outputElement.lastPromiseValue);\n",
              "  return Promise.resolve(next.value.promise).then((value) => {\n",
              "    // Cache the last promise value to make it available to the next\n",
              "    // step of the generator.\n",
              "    outputElement.lastPromiseValue = value;\n",
              "    return next.value.response;\n",
              "  });\n",
              "}\n",
              "\n",
              "/**\n",
              " * Generator function which is called between each async step of the upload\n",
              " * process.\n",
              " * @param {string} inputId Element ID of the input file picker element.\n",
              " * @param {string} outputId Element ID of the output display.\n",
              " * @return {!Iterable<!Object>} Iterable of next steps.\n",
              " */\n",
              "function* uploadFilesStep(inputId, outputId) {\n",
              "  const inputElement = document.getElementById(inputId);\n",
              "  inputElement.disabled = false;\n",
              "\n",
              "  const outputElement = document.getElementById(outputId);\n",
              "  outputElement.innerHTML = '';\n",
              "\n",
              "  const pickedPromise = new Promise((resolve) => {\n",
              "    inputElement.addEventListener('change', (e) => {\n",
              "      resolve(e.target.files);\n",
              "    });\n",
              "  });\n",
              "\n",
              "  const cancel = document.createElement('button');\n",
              "  inputElement.parentElement.appendChild(cancel);\n",
              "  cancel.textContent = 'Cancel upload';\n",
              "  const cancelPromise = new Promise((resolve) => {\n",
              "    cancel.onclick = () => {\n",
              "      resolve(null);\n",
              "    };\n",
              "  });\n",
              "\n",
              "  // Wait for the user to pick the files.\n",
              "  const files = yield {\n",
              "    promise: Promise.race([pickedPromise, cancelPromise]),\n",
              "    response: {\n",
              "      action: 'starting',\n",
              "    }\n",
              "  };\n",
              "\n",
              "  cancel.remove();\n",
              "\n",
              "  // Disable the input element since further picks are not allowed.\n",
              "  inputElement.disabled = true;\n",
              "\n",
              "  if (!files) {\n",
              "    return {\n",
              "      response: {\n",
              "        action: 'complete',\n",
              "      }\n",
              "    };\n",
              "  }\n",
              "\n",
              "  for (const file of files) {\n",
              "    const li = document.createElement('li');\n",
              "    li.append(span(file.name, {fontWeight: 'bold'}));\n",
              "    li.append(span(\n",
              "        `(${file.type || 'n/a'}) - ${file.size} bytes, ` +\n",
              "        `last modified: ${\n",
              "            file.lastModifiedDate ? file.lastModifiedDate.toLocaleDateString() :\n",
              "                                    'n/a'} - `));\n",
              "    const percent = span('0% done');\n",
              "    li.appendChild(percent);\n",
              "\n",
              "    outputElement.appendChild(li);\n",
              "\n",
              "    const fileDataPromise = new Promise((resolve) => {\n",
              "      const reader = new FileReader();\n",
              "      reader.onload = (e) => {\n",
              "        resolve(e.target.result);\n",
              "      };\n",
              "      reader.readAsArrayBuffer(file);\n",
              "    });\n",
              "    // Wait for the data to be ready.\n",
              "    let fileData = yield {\n",
              "      promise: fileDataPromise,\n",
              "      response: {\n",
              "        action: 'continue',\n",
              "      }\n",
              "    };\n",
              "\n",
              "    // Use a chunked sending to avoid message size limits. See b/62115660.\n",
              "    let position = 0;\n",
              "    do {\n",
              "      const length = Math.min(fileData.byteLength - position, MAX_PAYLOAD_SIZE);\n",
              "      const chunk = new Uint8Array(fileData, position, length);\n",
              "      position += length;\n",
              "\n",
              "      const base64 = btoa(String.fromCharCode.apply(null, chunk));\n",
              "      yield {\n",
              "        response: {\n",
              "          action: 'append',\n",
              "          file: file.name,\n",
              "          data: base64,\n",
              "        },\n",
              "      };\n",
              "\n",
              "      let percentDone = fileData.byteLength === 0 ?\n",
              "          100 :\n",
              "          Math.round((position / fileData.byteLength) * 100);\n",
              "      percent.textContent = `${percentDone}% done`;\n",
              "\n",
              "    } while (position < fileData.byteLength);\n",
              "  }\n",
              "\n",
              "  // All done.\n",
              "  yield {\n",
              "    response: {\n",
              "      action: 'complete',\n",
              "    }\n",
              "  };\n",
              "}\n",
              "\n",
              "scope.google = scope.google || {};\n",
              "scope.google.colab = scope.google.colab || {};\n",
              "scope.google.colab._files = {\n",
              "  _uploadFiles,\n",
              "  _uploadFilesContinue,\n",
              "};\n",
              "})(self);\n",
              "</script> "
            ]
          },
          "metadata": {}
        },
        {
          "output_type": "stream",
          "name": "stdout",
          "text": [
            "Saving dataset.zip to dataset.zip\n"
          ]
        }
      ],
      "source": [
        "from google.colab import files\n",
        "uploaded = files.upload()\n"
      ]
    },
    {
      "cell_type": "code",
      "execution_count": 3,
      "metadata": {
        "id": "YWfFfPa2KPPs"
      },
      "outputs": [],
      "source": [
        "import zipfile\n",
        "with zipfile.ZipFile(\"dataset.zip\", \"r\") as zip_ref:\n",
        "    zip_ref.extractall(\"./\")\n"
      ]
    },
    {
      "cell_type": "code",
      "execution_count": 4,
      "metadata": {
        "colab": {
          "base_uri": "https://localhost:8080/"
        },
        "id": "psZMdp-wKU18",
        "outputId": "f1a4b675-11cb-4583-c4bd-392f8a3a2dd7"
      },
      "outputs": [
        {
          "output_type": "stream",
          "name": "stdout",
          "text": [
            "circle.png   hexagon.png  pentagon.png\tstar.png\n",
            "diamond.png  octagon.png  square.png\ttriangle.png\n",
            "blue_circle.png     green_star.png\t  purple_pentagon.png\n",
            "blue_diamond.png    magenta_circle.png\t  purple_square.png\n",
            "blue_hexagon.png    magenta_diamond.png   purple_star.png\n",
            "blue_octagon.png    magenta_hexagon.png   purple_triangle.png\n",
            "blue_pentagon.png   magenta_octagon.png   red_circle.png\n",
            "blue_square.png     magenta_pentagon.png  red_diamond.png\n",
            "blue_triangle.png   magenta_square.png\t  red_hexagon.png\n",
            "cyan_circle.png     magenta_triangle.png  red_octagon.png\n",
            "cyan_diamond.png    orange_circle.png\t  red_pentagon.png\n",
            "cyan_hexagon.png    orange_diamond.png\t  red_square.png\n",
            "cyan_octagon.png    orange_hexagon.png\t  red_star.png\n",
            "cyan_star.png\t    orange_octagon.png\t  red_triangle.png\n",
            "cyan_triangle.png   orange_pentagon.png   yellow_circle.png\n",
            "green_circle.png    orange_square.png\t  yellow_diamond.png\n",
            "green_diamond.png   orange_triangle.png   yellow_hexagon.png\n",
            "green_hexagon.png   purple_circle.png\t  yellow_octagon.png\n",
            "green_octagon.png   purple_diamond.png\t  yellow_pentagon.png\n",
            "green_pentagon.png  purple_hexagon.png\t  yellow_triangle.png\n",
            "green_square.png    purple_octagon.png\n",
            "./dataset/training/data.json\n"
          ]
        }
      ],
      "source": [
        "!ls ./dataset/training/inputs\n",
        "!ls ./dataset/training/outputs\n",
        "!ls ./dataset/training/data.json\n"
      ]
    },
    {
      "cell_type": "code",
      "execution_count": 5,
      "metadata": {
        "id": "DZ8_yKjmKWyk"
      },
      "outputs": [],
      "source": [
        "color_list = [\"cyan\", \"purple\", \"magenta\", \"green\", \"red\", \"blue\", \"yellow\", \"orange\"]\n"
      ]
    },
    {
      "cell_type": "markdown",
      "source": [
        "**PyTorch Dataset**"
      ],
      "metadata": {
        "id": "K90Sl5fgPzDQ"
      }
    },
    {
      "cell_type": "code",
      "execution_count": 6,
      "metadata": {
        "id": "OFGA-YPyKkeE"
      },
      "outputs": [],
      "source": [
        "import json\n",
        "import os\n",
        "from PIL import Image\n",
        "import torch\n",
        "from torch.utils.data import Dataset\n",
        "\n",
        "class PolygonColorDataset(Dataset):\n",
        "    def __init__(self, root_dir, json_path, color_list, transform=None):\n",
        "        self.root_dir = root_dir\n",
        "        self.transform = transform\n",
        "        self.color_list = color_list\n",
        "        with open(json_path, 'r') as f:\n",
        "            self.data = json.load(f)\n",
        "\n",
        "    def __len__(self):\n",
        "        return len(self.data)\n",
        "\n",
        "    def encode_color(self, color):\n",
        "        idx = self.color_list.index(color)\n",
        "        one_hot = torch.zeros(len(self.color_list))\n",
        "        one_hot[idx] = 1\n",
        "        return one_hot\n",
        "\n",
        "    def __getitem__(self, idx):\n",
        "        item = self.data[idx]\n",
        "        input_path = os.path.join(self.root_dir, \"inputs\", item[\"input_polygon\"])\n",
        "        output_path = os.path.join(self.root_dir, \"outputs\", item[\"output_image\"])\n",
        "        input_img = Image.open(input_path).convert(\"L\")\n",
        "        output_img = Image.open(output_path).convert(\"RGB\")\n",
        "        color = item[\"colour\"]\n",
        "        color_vector = self.encode_color(color)\n",
        "        if self.transform:\n",
        "            input_img = self.transform(input_img)\n",
        "            output_img = self.transform(output_img)\n",
        "        return input_img, color_vector, output_img\n"
      ]
    },
    {
      "cell_type": "code",
      "execution_count": 7,
      "metadata": {
        "id": "zjUe57viKrBh"
      },
      "outputs": [],
      "source": [
        "from torchvision import transforms\n",
        "\n",
        "transform = transforms.Compose([\n",
        "    transforms.Resize((128, 128)),\n",
        "    transforms.ToTensor(),\n",
        "])\n",
        "\n",
        "train_dataset = PolygonColorDataset(\n",
        "    root_dir='./dataset/training',\n",
        "    json_path='./dataset/training/data.json',\n",
        "    color_list=color_list,\n",
        "    transform=transform\n",
        ")\n",
        "val_dataset = PolygonColorDataset(\n",
        "    root_dir='./dataset/validation',\n",
        "    json_path='./dataset/validation/data.json',\n",
        "    color_list=color_list,\n",
        "    transform=transform\n",
        ")\n",
        "\n",
        "from torch.utils.data import DataLoader\n",
        "train_loader = DataLoader(train_dataset, batch_size=16, shuffle=True)\n",
        "val_loader = DataLoader(val_dataset, batch_size=16, shuffle=False)\n"
      ]
    },
    {
      "cell_type": "code",
      "execution_count": 8,
      "metadata": {
        "id": "g_1o7OUPMR-o"
      },
      "outputs": [],
      "source": [
        "import torch\n",
        "\n",
        "def condition_input(input_img, color_vec):\n",
        "    # input_img: (B, 1, H, W)\n",
        "    # color_vec: (B, num_colors)\n",
        "    B, _, H, W = input_img.shape\n",
        "    color_map = color_vec[:, :, None, None].repeat(1, 1, H, W)  # (B, num_colors, H, W)\n",
        "    stacked = torch.cat([input_img, color_map], dim=1)  # (B, 1+num_colors, H, W)\n",
        "    return stacked\n"
      ]
    },
    {
      "cell_type": "markdown",
      "source": [
        "**UNet Model**"
      ],
      "metadata": {
        "id": "rfh-rnthP6S-"
      }
    },
    {
      "cell_type": "code",
      "execution_count": 9,
      "metadata": {
        "id": "N5Tf4bNlMUE1"
      },
      "outputs": [],
      "source": [
        "import torch.nn as nn\n",
        "\n",
        "class DoubleConv(nn.Module):\n",
        "    def __init__(self, in_channels, out_channels):\n",
        "        super().__init__()\n",
        "        self.double_conv = nn.Sequential(\n",
        "            nn.Conv2d(in_channels, out_channels, 3, padding=1),\n",
        "            nn.ReLU(inplace=True),\n",
        "            nn.Conv2d(out_channels, out_channels, 3, padding=1),\n",
        "            nn.ReLU(inplace=True)\n",
        "        )\n",
        "    def forward(self, x):\n",
        "        return self.double_conv(x)\n",
        "\n",
        "class UNet(nn.Module):\n",
        "    def __init__(self, input_channels, output_channels=3):\n",
        "        super().__init__()\n",
        "        # Encoder\n",
        "        self.down1 = DoubleConv(input_channels, 64)\n",
        "        self.pool1 = nn.MaxPool2d(2)\n",
        "        self.down2 = DoubleConv(64, 128)\n",
        "        self.pool2 = nn.MaxPool2d(2)\n",
        "        self.down3 = DoubleConv(128, 256)\n",
        "        self.pool3 = nn.MaxPool2d(2)\n",
        "        self.down4 = DoubleConv(256, 512)\n",
        "        self.pool4 = nn.MaxPool2d(2)\n",
        "        self.bottleneck = DoubleConv(512, 1024)\n",
        "        # Decoder\n",
        "        self.up4 = nn.ConvTranspose2d(1024, 512, 2, stride=2)\n",
        "        self.dec4 = DoubleConv(1024, 512)\n",
        "        self.up3 = nn.ConvTranspose2d(512, 256, 2, stride=2)\n",
        "        self.dec3 = DoubleConv(512, 256)\n",
        "        self.up2 = nn.ConvTranspose2d(256, 128, 2, stride=2)\n",
        "        self.dec2 = DoubleConv(256, 128)\n",
        "        self.up1 = nn.ConvTranspose2d(128, 64, 2, stride=2)\n",
        "        self.dec1 = DoubleConv(128, 64)\n",
        "\n",
        "        self.final_conv = nn.Conv2d(64, output_channels, 1)\n",
        "\n",
        "    def forward(self, x):\n",
        "        # Encoder\n",
        "        c1 = self.down1(x)\n",
        "        p1 = self.pool1(c1)\n",
        "        c2 = self.down2(p1)\n",
        "        p2 = self.pool2(c2)\n",
        "        c3 = self.down3(p2)\n",
        "        p3 = self.pool3(c3)\n",
        "        c4 = self.down4(p3)\n",
        "        p4 = self.pool4(c4)\n",
        "\n",
        "        bn = self.bottleneck(p4)\n",
        "        # Decoder\n",
        "        u4 = self.up4(bn)\n",
        "        d4 = self.dec4(torch.cat([u4, c4], dim=1))\n",
        "        u3 = self.up3(d4)\n",
        "        d3 = self.dec3(torch.cat([u3, c3], dim=1))\n",
        "        u2 = self.up2(d3)\n",
        "        d2 = self.dec2(torch.cat([u2, c2], dim=1))\n",
        "        u1 = self.up1(d2)\n",
        "        d1 = self.dec1(torch.cat([u1, c1], dim=1))\n",
        "        out = self.final_conv(d1)\n",
        "        return out  # (B, 3, H, W)\n"
      ]
    },
    {
      "cell_type": "code",
      "execution_count": 10,
      "metadata": {
        "id": "gG9-Wqs9MWjR"
      },
      "outputs": [],
      "source": [
        "import torch.optim as optim\n",
        "import torch.nn as nn\n",
        "\n",
        "device = torch.device(\"cuda\" if torch.cuda.is_available() else \"cpu\")\n",
        "model = UNet(input_channels=1 + len(color_list)).to(device)\n",
        "criterion = nn.MSELoss()\n",
        "\n",
        "optimizer = optim.Adam(model.parameters(), lr=1e-3)\n"
      ]
    },
    {
      "cell_type": "markdown",
      "source": [
        "**wandb Experiment Tracking**"
      ],
      "metadata": {
        "id": "7bz1Y9vpQGcw"
      }
    },
    {
      "cell_type": "code",
      "execution_count": 11,
      "metadata": {
        "colab": {
          "base_uri": "https://localhost:8080/",
          "height": 281
        },
        "id": "Wtp7DyPLMdZj",
        "outputId": "56dd824a-9079-4eb2-fb23-34cf5b16df8f"
      },
      "outputs": [
        {
          "output_type": "display_data",
          "data": {
            "text/plain": [
              "<IPython.core.display.Javascript object>"
            ],
            "application/javascript": [
              "\n",
              "        window._wandbApiKey = new Promise((resolve, reject) => {\n",
              "            function loadScript(url) {\n",
              "            return new Promise(function(resolve, reject) {\n",
              "                let newScript = document.createElement(\"script\");\n",
              "                newScript.onerror = reject;\n",
              "                newScript.onload = resolve;\n",
              "                document.body.appendChild(newScript);\n",
              "                newScript.src = url;\n",
              "            });\n",
              "            }\n",
              "            loadScript(\"https://cdn.jsdelivr.net/npm/postmate/build/postmate.min.js\").then(() => {\n",
              "            const iframe = document.createElement('iframe')\n",
              "            iframe.style.cssText = \"width:0;height:0;border:none\"\n",
              "            document.body.appendChild(iframe)\n",
              "            const handshake = new Postmate({\n",
              "                container: iframe,\n",
              "                url: 'https://wandb.ai/authorize'\n",
              "            });\n",
              "            const timeout = setTimeout(() => reject(\"Couldn't auto authenticate\"), 5000)\n",
              "            handshake.then(function(child) {\n",
              "                child.on('authorize', data => {\n",
              "                    clearTimeout(timeout)\n",
              "                    resolve(data)\n",
              "                });\n",
              "            });\n",
              "            })\n",
              "        });\n",
              "    "
            ]
          },
          "metadata": {}
        },
        {
          "output_type": "stream",
          "name": "stderr",
          "text": [
            "\u001b[34m\u001b[1mwandb\u001b[0m: Logging into wandb.ai. (Learn how to deploy a W&B server locally: https://wandb.me/wandb-server)\n",
            "\u001b[34m\u001b[1mwandb\u001b[0m: You can find your API key in your browser here: https://wandb.ai/authorize\n",
            "wandb: Paste an API key from your profile and hit enter:"
          ]
        },
        {
          "name": "stdout",
          "output_type": "stream",
          "text": [
            " ··········\n"
          ]
        },
        {
          "output_type": "stream",
          "name": "stderr",
          "text": [
            "\u001b[34m\u001b[1mwandb\u001b[0m: \u001b[33mWARNING\u001b[0m If you're specifying your api key in code, ensure this code is not shared publicly.\n",
            "\u001b[34m\u001b[1mwandb\u001b[0m: \u001b[33mWARNING\u001b[0m Consider setting the WANDB_API_KEY environment variable, or running `wandb login` from the command line.\n",
            "\u001b[34m\u001b[1mwandb\u001b[0m: No netrc file found, creating one.\n",
            "\u001b[34m\u001b[1mwandb\u001b[0m: Appending key for api.wandb.ai to your netrc file: /root/.netrc\n",
            "\u001b[34m\u001b[1mwandb\u001b[0m: Currently logged in as: \u001b[33mvenkatasaiakash-arvapalli\u001b[0m (\u001b[33mvenkatasaiakash-arvapalli-mahindra-university\u001b[0m) to \u001b[32mhttps://api.wandb.ai\u001b[0m. Use \u001b[1m`wandb login --relogin`\u001b[0m to force relogin\n"
          ]
        },
        {
          "output_type": "display_data",
          "data": {
            "text/plain": [
              "<IPython.core.display.HTML object>"
            ],
            "text/html": [
              "Tracking run with wandb version 0.21.0"
            ]
          },
          "metadata": {}
        },
        {
          "output_type": "display_data",
          "data": {
            "text/plain": [
              "<IPython.core.display.HTML object>"
            ],
            "text/html": [
              "Run data is saved locally in <code>/content/wandb/run-20250804_183108-vd5nxpg4</code>"
            ]
          },
          "metadata": {}
        },
        {
          "output_type": "display_data",
          "data": {
            "text/plain": [
              "<IPython.core.display.HTML object>"
            ],
            "text/html": [
              "Syncing run <strong><a href='https://wandb.ai/venkatasaiakash-arvapalli-mahindra-university/aynapolygon-unet/runs/vd5nxpg4' target=\"_blank\">lucky-disco-6</a></strong> to <a href='https://wandb.ai/venkatasaiakash-arvapalli-mahindra-university/aynapolygon-unet' target=\"_blank\">Weights & Biases</a> (<a href='https://wandb.me/developer-guide' target=\"_blank\">docs</a>)<br>"
            ]
          },
          "metadata": {}
        },
        {
          "output_type": "display_data",
          "data": {
            "text/plain": [
              "<IPython.core.display.HTML object>"
            ],
            "text/html": [
              " View project at <a href='https://wandb.ai/venkatasaiakash-arvapalli-mahindra-university/aynapolygon-unet' target=\"_blank\">https://wandb.ai/venkatasaiakash-arvapalli-mahindra-university/aynapolygon-unet</a>"
            ]
          },
          "metadata": {}
        },
        {
          "output_type": "display_data",
          "data": {
            "text/plain": [
              "<IPython.core.display.HTML object>"
            ],
            "text/html": [
              " View run at <a href='https://wandb.ai/venkatasaiakash-arvapalli-mahindra-university/aynapolygon-unet/runs/vd5nxpg4' target=\"_blank\">https://wandb.ai/venkatasaiakash-arvapalli-mahindra-university/aynapolygon-unet/runs/vd5nxpg4</a>"
            ]
          },
          "metadata": {}
        },
        {
          "output_type": "execute_result",
          "data": {
            "text/html": [
              "<button onClick=\"this.nextSibling.style.display='block';this.style.display='none';\">Display W&B run</button><iframe src='https://wandb.ai/venkatasaiakash-arvapalli-mahindra-university/aynapolygon-unet/runs/vd5nxpg4?jupyter=true' style='border:none;width:100%;height:420px;display:none;'></iframe>"
            ],
            "text/plain": [
              "<wandb.sdk.wandb_run.Run at 0x7e6bad40e790>"
            ]
          },
          "metadata": {},
          "execution_count": 11
        }
      ],
      "source": [
        "import wandb\n",
        "wandb.login()\n",
        "wandb.init(project=\"aynapolygon-unet\")\n"
      ]
    },
    {
      "cell_type": "markdown",
      "source": [
        "**Data Augmentation**"
      ],
      "metadata": {
        "id": "8TgFiYs8QL6y"
      }
    },
    {
      "cell_type": "code",
      "execution_count": 12,
      "metadata": {
        "id": "rxWtxEEsNbuf"
      },
      "outputs": [],
      "source": [
        "aug_transform = transforms.Compose([\n",
        "    transforms.Resize((128, 128)),\n",
        "    transforms.RandomHorizontalFlip(),\n",
        "    transforms.RandomRotation(30),\n",
        "    transforms.ToTensor(),\n",
        "])\n"
      ]
    },
    {
      "cell_type": "markdown",
      "source": [
        "**Training and Validation Loop**"
      ],
      "metadata": {
        "id": "P-rkF3b8QXfB"
      }
    },
    {
      "cell_type": "code",
      "execution_count": 13,
      "metadata": {
        "colab": {
          "base_uri": "https://localhost:8080/"
        },
        "id": "pVyPGz4YNfeV",
        "outputId": "276369e8-4669-48f0-94d6-080fcbcb2ff6"
      },
      "outputs": [
        {
          "output_type": "stream",
          "name": "stdout",
          "text": [
            "Epoch 1/120 - Train loss: 0.7604\n",
            "Validation loss: 0.5812\n",
            " Saved Best Model at Epoch 1 with val_loss: 0.5812\n",
            "Epoch 2/120 - Train loss: 0.5251\n",
            "Validation loss: 0.4348\n",
            " Saved Best Model at Epoch 2 with val_loss: 0.4348\n",
            "Epoch 3/120 - Train loss: 0.2782\n",
            "Validation loss: 0.1090\n",
            " Saved Best Model at Epoch 3 with val_loss: 0.1090\n",
            "Epoch 4/120 - Train loss: 0.1973\n",
            "Validation loss: 0.0694\n",
            " Saved Best Model at Epoch 4 with val_loss: 0.0694\n",
            "Epoch 5/120 - Train loss: 0.1106\n",
            "Validation loss: 0.1072\n",
            "Epoch 6/120 - Train loss: 0.1174\n",
            "Validation loss: 0.0835\n",
            "Epoch 7/120 - Train loss: 0.1089\n",
            "Validation loss: 0.0823\n",
            "Epoch 8/120 - Train loss: 0.1023\n",
            "Validation loss: 0.0791\n",
            "Epoch 9/120 - Train loss: 0.1022\n",
            "Validation loss: 0.0775\n",
            "Epoch 10/120 - Train loss: 0.0906\n",
            "Validation loss: 0.0690\n",
            " Saved Best Model at Epoch 10 with val_loss: 0.0690\n",
            "Epoch 11/120 - Train loss: 0.0963\n",
            "Validation loss: 0.0684\n",
            " Saved Best Model at Epoch 11 with val_loss: 0.0684\n",
            "Epoch 12/120 - Train loss: 0.0942\n",
            "Validation loss: 0.0710\n",
            "Epoch 13/120 - Train loss: 0.0923\n",
            "Validation loss: 0.0686\n",
            "Epoch 14/120 - Train loss: 0.0885\n",
            "Validation loss: 0.0683\n",
            " Saved Best Model at Epoch 14 with val_loss: 0.0683\n",
            "Epoch 15/120 - Train loss: 0.0906\n",
            "Validation loss: 0.0742\n",
            "Epoch 16/120 - Train loss: 0.0970\n",
            "Validation loss: 0.0801\n",
            "Epoch 17/120 - Train loss: 0.0926\n",
            "Validation loss: 0.0658\n",
            " Saved Best Model at Epoch 17 with val_loss: 0.0658\n",
            "Epoch 18/120 - Train loss: 0.0914\n",
            "Validation loss: 0.0668\n",
            "Epoch 19/120 - Train loss: 0.0884\n",
            "Validation loss: 0.0655\n",
            " Saved Best Model at Epoch 19 with val_loss: 0.0655\n",
            "Epoch 20/120 - Train loss: 0.0843\n",
            "Validation loss: 0.0638\n",
            " Saved Best Model at Epoch 20 with val_loss: 0.0638\n",
            "Epoch 21/120 - Train loss: 0.0854\n",
            "Validation loss: 0.0631\n",
            " Saved Best Model at Epoch 21 with val_loss: 0.0631\n",
            "Epoch 22/120 - Train loss: 0.0876\n",
            "Validation loss: 0.0627\n",
            " Saved Best Model at Epoch 22 with val_loss: 0.0627\n",
            "Epoch 23/120 - Train loss: 0.0816\n",
            "Validation loss: 0.0615\n",
            " Saved Best Model at Epoch 23 with val_loss: 0.0615\n",
            "Epoch 24/120 - Train loss: 0.0811\n",
            "Validation loss: 0.0611\n",
            " Saved Best Model at Epoch 24 with val_loss: 0.0611\n",
            "Epoch 25/120 - Train loss: 0.0796\n",
            "Validation loss: 0.0616\n",
            "Epoch 26/120 - Train loss: 0.0801\n",
            "Validation loss: 0.0666\n",
            "Epoch 27/120 - Train loss: 0.0811\n",
            "Validation loss: 0.0576\n",
            " Saved Best Model at Epoch 27 with val_loss: 0.0576\n",
            "Epoch 28/120 - Train loss: 0.0767\n",
            "Validation loss: 0.0592\n",
            "Epoch 29/120 - Train loss: 0.0793\n",
            "Validation loss: 0.0578\n",
            "Epoch 30/120 - Train loss: 0.0768\n",
            "Validation loss: 0.0572\n",
            " Saved Best Model at Epoch 30 with val_loss: 0.0572\n",
            "Epoch 31/120 - Train loss: 0.0756\n",
            "Validation loss: 0.0588\n",
            "Epoch 32/120 - Train loss: 0.0718\n",
            "Validation loss: 0.0542\n",
            " Saved Best Model at Epoch 32 with val_loss: 0.0542\n",
            "Epoch 33/120 - Train loss: 0.0681\n",
            "Validation loss: 0.0536\n",
            " Saved Best Model at Epoch 33 with val_loss: 0.0536\n",
            "Epoch 34/120 - Train loss: 0.0744\n",
            "Validation loss: 0.0538\n",
            "Epoch 35/120 - Train loss: 0.0854\n",
            "Validation loss: 0.1041\n",
            "Epoch 36/120 - Train loss: 0.0992\n",
            "Validation loss: 0.0689\n",
            "Epoch 37/120 - Train loss: 0.0891\n",
            "Validation loss: 0.0774\n",
            "Epoch 38/120 - Train loss: 0.0856\n",
            "Validation loss: 0.0710\n",
            "Epoch 39/120 - Train loss: 0.0838\n",
            "Validation loss: 0.0594\n",
            "Epoch 40/120 - Train loss: 0.0762\n",
            "Validation loss: 0.0558\n",
            "Epoch 41/120 - Train loss: 0.1030\n",
            "Validation loss: 0.0776\n",
            "Epoch 42/120 - Train loss: 0.0874\n",
            "Validation loss: 0.0991\n",
            "Epoch 43/120 - Train loss: 0.1001\n",
            "Validation loss: 0.0599\n",
            "Epoch 44/120 - Train loss: 0.0792\n",
            "Validation loss: 0.0606\n",
            "Epoch 45/120 - Train loss: 0.0768\n",
            "Validation loss: 0.0581\n",
            "Epoch 46/120 - Train loss: 0.0792\n",
            "Validation loss: 0.0576\n",
            "Epoch 47/120 - Train loss: 0.0746\n",
            "Validation loss: 0.0565\n",
            "Epoch 48/120 - Train loss: 0.0724\n",
            "Validation loss: 0.0641\n",
            "Epoch 49/120 - Train loss: 0.0729\n",
            "Validation loss: 0.0510\n",
            " Saved Best Model at Epoch 49 with val_loss: 0.0510\n",
            "Epoch 50/120 - Train loss: 0.0636\n",
            "Validation loss: 0.0534\n",
            "Epoch 51/120 - Train loss: 0.0735\n",
            "Validation loss: 0.0601\n",
            "Epoch 52/120 - Train loss: 0.0762\n",
            "Validation loss: 0.0645\n",
            "Epoch 53/120 - Train loss: 0.0784\n",
            "Validation loss: 0.0637\n",
            "Epoch 54/120 - Train loss: 0.0770\n",
            "Validation loss: 0.0522\n",
            "Epoch 55/120 - Train loss: 0.0712\n",
            "Validation loss: 0.0518\n",
            "Epoch 56/120 - Train loss: 0.0738\n",
            "Validation loss: 0.0508\n",
            " Saved Best Model at Epoch 56 with val_loss: 0.0508\n",
            "Epoch 57/120 - Train loss: 0.0735\n",
            "Validation loss: 0.0556\n",
            "Epoch 58/120 - Train loss: 0.0625\n",
            "Validation loss: 0.0492\n",
            " Saved Best Model at Epoch 58 with val_loss: 0.0492\n",
            "Epoch 59/120 - Train loss: 0.0699\n",
            "Validation loss: 0.0477\n",
            " Saved Best Model at Epoch 59 with val_loss: 0.0477\n",
            "Epoch 60/120 - Train loss: 0.0664\n",
            "Validation loss: 0.0642\n",
            "Epoch 61/120 - Train loss: 0.0617\n",
            "Validation loss: 0.0443\n",
            " Saved Best Model at Epoch 61 with val_loss: 0.0443\n",
            "Epoch 62/120 - Train loss: 0.0542\n",
            "Validation loss: 0.0459\n",
            "Epoch 63/120 - Train loss: 0.0537\n",
            "Validation loss: 0.0482\n",
            "Epoch 64/120 - Train loss: 0.0536\n",
            "Validation loss: 0.0487\n",
            "Epoch 65/120 - Train loss: 0.0507\n",
            "Validation loss: 0.0513\n",
            "Epoch 66/120 - Train loss: 0.0447\n",
            "Validation loss: 0.0431\n",
            " Saved Best Model at Epoch 66 with val_loss: 0.0431\n",
            "Epoch 67/120 - Train loss: 0.0466\n",
            "Validation loss: 0.0529\n",
            "Epoch 68/120 - Train loss: 0.0414\n",
            "Validation loss: 0.0419\n",
            " Saved Best Model at Epoch 68 with val_loss: 0.0419\n",
            "Epoch 69/120 - Train loss: 0.0415\n",
            "Validation loss: 0.0377\n",
            " Saved Best Model at Epoch 69 with val_loss: 0.0377\n",
            "Epoch 70/120 - Train loss: 0.0378\n",
            "Validation loss: 0.0406\n",
            "Epoch 71/120 - Train loss: 0.0344\n",
            "Validation loss: 0.0385\n",
            "Epoch 72/120 - Train loss: 0.0338\n",
            "Validation loss: 0.0336\n",
            " Saved Best Model at Epoch 72 with val_loss: 0.0336\n",
            "Epoch 73/120 - Train loss: 0.0320\n",
            "Validation loss: 0.0334\n",
            " Saved Best Model at Epoch 73 with val_loss: 0.0334\n",
            "Epoch 74/120 - Train loss: 0.0310\n",
            "Validation loss: 0.0400\n",
            "Epoch 75/120 - Train loss: 0.0280\n",
            "Validation loss: 0.0368\n",
            "Epoch 76/120 - Train loss: 0.0392\n",
            "Validation loss: 0.0354\n",
            "Epoch 77/120 - Train loss: 0.0305\n",
            "Validation loss: 0.0421\n",
            "Epoch 78/120 - Train loss: 0.0295\n",
            "Validation loss: 0.0289\n",
            " Saved Best Model at Epoch 78 with val_loss: 0.0289\n",
            "Epoch 79/120 - Train loss: 0.0277\n",
            "Validation loss: 0.0293\n",
            "Epoch 80/120 - Train loss: 0.0257\n",
            "Validation loss: 0.0207\n",
            " Saved Best Model at Epoch 80 with val_loss: 0.0207\n",
            "Epoch 81/120 - Train loss: 0.0244\n",
            "Validation loss: 0.0227\n",
            "Epoch 82/120 - Train loss: 0.0234\n",
            "Validation loss: 0.0219\n",
            "Epoch 83/120 - Train loss: 0.0264\n",
            "Validation loss: 0.0337\n",
            "Epoch 84/120 - Train loss: 0.0276\n",
            "Validation loss: 0.0220\n",
            "Epoch 85/120 - Train loss: 0.0290\n",
            "Validation loss: 0.0395\n",
            "Epoch 86/120 - Train loss: 0.0281\n",
            "Validation loss: 0.0276\n",
            "Epoch 87/120 - Train loss: 0.0202\n",
            "Validation loss: 0.0261\n",
            "Epoch 88/120 - Train loss: 0.0185\n",
            "Validation loss: 0.0154\n",
            " Saved Best Model at Epoch 88 with val_loss: 0.0154\n",
            "Epoch 89/120 - Train loss: 0.0161\n",
            "Validation loss: 0.0136\n",
            " Saved Best Model at Epoch 89 with val_loss: 0.0136\n",
            "Epoch 90/120 - Train loss: 0.0150\n",
            "Validation loss: 0.0115\n",
            " Saved Best Model at Epoch 90 with val_loss: 0.0115\n",
            "Epoch 91/120 - Train loss: 0.0123\n",
            "Validation loss: 0.0104\n",
            " Saved Best Model at Epoch 91 with val_loss: 0.0104\n",
            "Epoch 92/120 - Train loss: 0.0111\n",
            "Validation loss: 0.0086\n",
            " Saved Best Model at Epoch 92 with val_loss: 0.0086\n",
            "Epoch 93/120 - Train loss: 0.0101\n",
            "Validation loss: 0.0089\n",
            "Epoch 94/120 - Train loss: 0.0094\n",
            "Validation loss: 0.0081\n",
            " Saved Best Model at Epoch 94 with val_loss: 0.0081\n",
            "Epoch 95/120 - Train loss: 0.0092\n",
            "Validation loss: 0.0095\n",
            "Epoch 96/120 - Train loss: 0.0088\n",
            "Validation loss: 0.0073\n",
            " Saved Best Model at Epoch 96 with val_loss: 0.0073\n",
            "Epoch 97/120 - Train loss: 0.0079\n",
            "Validation loss: 0.0068\n",
            " Saved Best Model at Epoch 97 with val_loss: 0.0068\n",
            "Epoch 98/120 - Train loss: 0.0071\n",
            "Validation loss: 0.0076\n",
            "Epoch 99/120 - Train loss: 0.0065\n",
            "Validation loss: 0.0051\n",
            " Saved Best Model at Epoch 99 with val_loss: 0.0051\n",
            "Epoch 100/120 - Train loss: 0.0056\n",
            "Validation loss: 0.0057\n",
            "Epoch 101/120 - Train loss: 0.0053\n",
            "Validation loss: 0.0049\n",
            " Saved Best Model at Epoch 101 with val_loss: 0.0049\n",
            "Epoch 102/120 - Train loss: 0.0048\n",
            "Validation loss: 0.0043\n",
            " Saved Best Model at Epoch 102 with val_loss: 0.0043\n",
            "Epoch 103/120 - Train loss: 0.0044\n",
            "Validation loss: 0.0041\n",
            " Saved Best Model at Epoch 103 with val_loss: 0.0041\n",
            "Epoch 104/120 - Train loss: 0.0038\n",
            "Validation loss: 0.0037\n",
            " Saved Best Model at Epoch 104 with val_loss: 0.0037\n",
            "Epoch 105/120 - Train loss: 0.0035\n",
            "Validation loss: 0.0035\n",
            " Saved Best Model at Epoch 105 with val_loss: 0.0035\n",
            "Epoch 106/120 - Train loss: 0.0033\n",
            "Validation loss: 0.0031\n",
            " Saved Best Model at Epoch 106 with val_loss: 0.0031\n",
            "Epoch 107/120 - Train loss: 0.0030\n",
            "Validation loss: 0.0028\n",
            " Saved Best Model at Epoch 107 with val_loss: 0.0028\n",
            "Epoch 108/120 - Train loss: 0.0027\n",
            "Validation loss: 0.0026\n",
            " Saved Best Model at Epoch 108 with val_loss: 0.0026\n",
            "Epoch 109/120 - Train loss: 0.0026\n",
            "Validation loss: 0.0023\n",
            " Saved Best Model at Epoch 109 with val_loss: 0.0023\n",
            "Epoch 110/120 - Train loss: 0.0024\n",
            "Validation loss: 0.0023\n",
            " Saved Best Model at Epoch 110 with val_loss: 0.0023\n",
            "Epoch 111/120 - Train loss: 0.0022\n",
            "Validation loss: 0.0022\n",
            " Saved Best Model at Epoch 111 with val_loss: 0.0022\n",
            "Epoch 112/120 - Train loss: 0.0022\n",
            "Validation loss: 0.0020\n",
            " Saved Best Model at Epoch 112 with val_loss: 0.0020\n",
            "Epoch 113/120 - Train loss: 0.0022\n",
            "Validation loss: 0.0018\n",
            " Saved Best Model at Epoch 113 with val_loss: 0.0018\n",
            "Epoch 114/120 - Train loss: 0.0018\n",
            "Validation loss: 0.0017\n",
            " Saved Best Model at Epoch 114 with val_loss: 0.0017\n",
            "Epoch 115/120 - Train loss: 0.0018\n",
            "Validation loss: 0.0015\n",
            " Saved Best Model at Epoch 115 with val_loss: 0.0015\n",
            "Epoch 116/120 - Train loss: 0.0017\n",
            "Validation loss: 0.0015\n",
            "Epoch 117/120 - Train loss: 0.0016\n",
            "Validation loss: 0.0015\n",
            " Saved Best Model at Epoch 117 with val_loss: 0.0015\n",
            "Epoch 118/120 - Train loss: 0.0015\n",
            "Validation loss: 0.0013\n",
            " Saved Best Model at Epoch 118 with val_loss: 0.0013\n",
            "Epoch 119/120 - Train loss: 0.0014\n",
            "Validation loss: 0.0013\n",
            " Saved Best Model at Epoch 119 with val_loss: 0.0013\n",
            "Epoch 120/120 - Train loss: 0.0014\n",
            "Validation loss: 0.0013\n"
          ]
        }
      ],
      "source": [
        "num_epochs = 120\n",
        "\n",
        "best_loss = float('inf')\n",
        "\n",
        "for epoch in range(num_epochs):\n",
        "    model.train()\n",
        "    running_loss = 0.0\n",
        "    for input_img, color_vec, target_img in train_loader:\n",
        "        input_img = input_img.to(device)\n",
        "        color_vec = color_vec.to(device)\n",
        "        target_img = target_img.to(device)\n",
        "\n",
        "        conditioned_in = condition_input(input_img, color_vec)\n",
        "        pred_img = model(conditioned_in)\n",
        "        loss = criterion(pred_img, target_img)\n",
        "\n",
        "        optimizer.zero_grad()\n",
        "        loss.backward()\n",
        "        optimizer.step()\n",
        "        running_loss += loss.item()\n",
        "\n",
        "    avg_loss = running_loss / len(train_loader)\n",
        "    wandb.log({'train_loss': avg_loss, 'epoch': epoch})\n",
        "    print(f\"Epoch {epoch+1}/{num_epochs} - Train loss: {avg_loss:.4f}\")\n",
        "\n",
        "    # --- VALIDATION LOOP ---\n",
        "    model.eval()\n",
        "    val_loss = 0.0\n",
        "    with torch.no_grad():\n",
        "        for v_img, v_color, v_target in val_loader:\n",
        "            v_img, v_color, v_target = v_img.to(device), v_color.to(device), v_target.to(device)\n",
        "            v_in = condition_input(v_img, v_color)\n",
        "            v_pred = model(v_in)\n",
        "            v_loss = criterion(v_pred, v_target)\n",
        "            val_loss += v_loss.item()\n",
        "\n",
        "    val_loss /= len(val_loader)\n",
        "    wandb.log({'val_loss': val_loss, 'epoch': epoch})\n",
        "    print(f\"Validation loss: {val_loss:.4f}\")\n",
        "\n",
        "    if val_loss < best_loss:\n",
        "        best_loss = val_loss\n",
        "        torch.save(model.state_dict(), \"best_model.pth\")\n",
        "        print(f\" Saved Best Model at Epoch {epoch+1} with val_loss: {val_loss:.4f}\")\n",
        "\n"
      ]
    },
    {
      "cell_type": "markdown",
      "source": [
        "**Visualization**"
      ],
      "metadata": {
        "id": "NhkMeQqyQik9"
      }
    },
    {
      "cell_type": "code",
      "execution_count": 14,
      "metadata": {
        "colab": {
          "base_uri": "https://localhost:8080/",
          "height": 356
        },
        "id": "Ok6xzZlKNqv9",
        "outputId": "bd8de719-c175-4973-93b6-08c29d2e3684"
      },
      "outputs": [
        {
          "output_type": "display_data",
          "data": {
            "text/plain": [
              "<Figure size 1200x400 with 3 Axes>"
            ],
            "image/png": "[encoded data removed]"
          },
          "metadata": {}
        }
      ],
      "source": [
        "import matplotlib.pyplot as plt\n",
        "\n",
        "model.load_state_dict(torch.load(\"best_model.pth\"))\n",
        "model.eval()\n",
        "with torch.no_grad():\n",
        "    # Pick one validation example\n",
        "    input_img, color_vec, true_img = val_dataset[0]\n",
        "    input_img = input_img.unsqueeze(0).to(device)\n",
        "    color_vec = color_vec.unsqueeze(0).to(device)\n",
        "    conditioned_in = condition_input(input_img, color_vec)\n",
        "    pred_img = model(conditioned_in).squeeze().cpu().permute(1,2,0).numpy()\n",
        "\n",
        "    plt.figure(figsize=(12,4))\n",
        "    plt.subplot(1,3,1)\n",
        "    plt.imshow(input_img.squeeze().cpu(), cmap='gray')\n",
        "    plt.title('Polygon')\n",
        "    plt.subplot(1,3,2)\n",
        "    plt.imshow(true_img.permute(1,2,0))\n",
        "    plt.title('Target Color Fill')\n",
        "    plt.subplot(1,3,3)\n",
        "    plt.imshow(pred_img.clip(0,1))\n",
        "    plt.title('Model Prediction')\n",
        "    plt.show()\n"
      ]
    }
  ],
  "metadata": {
    "accelerator": "GPU",
    "colab": {
      "gpuType": "T4",
      "provenance": []
    },
    "kernelspec": {
      "display_name": "Python 3",
      "name": "python3"
    },
    "language_info": {
      "name": "python"
    }
  },
  "nbformat": 4,
  "nbformat_minor": 0
}